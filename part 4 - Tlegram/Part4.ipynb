{
 "cells": [
  {
   "cell_type": "code",
   "execution_count": null,
   "metadata": {},
   "outputs": [],
   "source": [
    "!pip install --upgrade pyTelegramBotAPI\n",
    "# Setup the environment\n",
    "!pip install -q -U immutabledict sentencepiece\n",
    "!pip install -U transformers datasets\n",
    "!pip install ipywidgets\n",
    "!pip install telebot\n",
    "!pip install python-telegram-bot"
   ]
  },
  {
   "cell_type": "code",
   "execution_count": null,
   "metadata": {},
   "outputs": [],
   "source": [
    "import os\n",
    "import telebot\n",
    "import json\n",
    "# Create a folder to save chat history\n",
    "os.makedirs('chats', exist_ok=True)\n",
    "\n",
    "bot = telebot.TeleBot(\"your telegram api\")\n",
    "\n",
    "\n",
    "import traceback"
   ]
  },
  {
   "cell_type": "code",
   "execution_count": null,
   "metadata": {},
   "outputs": [],
   "source": [
    "def translate(chat):\n",
    "    try:\n",
    "        query = f'''ترجم الي اللهجه المصريه: \"{chat}\"'''\n",
    "        prompt_template = \"\"\"<start_of_turn>user يوجد أدناه تعليمات تصف المهمة. اكتب الرد الذي يكمل الطلب بشكل مناسب.\\n\\n{query}<end_of_turn>\\n<start_of_turn>model\"\"\"\n",
    "        prompt = prompt_template.format(query=query)\n",
    "\n",
    "        print(f\"Tokenizing prompt: {prompt}\")\n",
    "        inputs = tokenizer(prompt, return_tensors=\"pt\", add_special_tokens=True)\n",
    "        print(\"Tokenization successful.\")\n",
    "        print(f\"Input IDs shape: {inputs['input_ids'].shape}\")\n",
    "        print(f\"Attention mask shape: {inputs['attention_mask'].shape}\")\n",
    "\n",
    "        model_inputs = inputs.to('cuda')\n",
    "\n",
    "        print(\"Generating translation...\")\n",
    "        outputs = model.generate(input_ids=model_inputs['input_ids'], attention_mask=model_inputs['attention_mask'], max_new_tokens=1000)\n",
    "        print(\"Generation successful.\")\n",
    "        print(f\"Output shape: {outputs.shape}\")\n",
    "\n",
    "        translation = tokenizer.decode(outputs[0], skip_special_tokens=True)\n",
    "        print(f\"Decoded translation: {translation}\")\n",
    "\n",
    "        return translation.split('model')[-1].strip()\n",
    "    except Exception as e:\n",
    "        print(f\"Error in translate function: {str(e)}\")\n",
    "        print(traceback.format_exc())\n",
    "        return f\"An error occurred: {str(e)}\""
   ]
  },
  {
   "cell_type": "code",
   "execution_count": null,
   "metadata": {},
   "outputs": [],
   "source": [
    "def get_chats(user_id):\n",
    "    path = f'chats/{user_id}.json'\n",
    "    if os.path.exists(path):\n",
    "        with open(path, 'r') as file:\n",
    "            data = json.load(file)\n",
    "        return data['chat']\n",
    "    else:\n",
    "        return []"
   ]
  },
  {
   "cell_type": "code",
   "execution_count": null,
   "metadata": {},
   "outputs": [],
   "source": [
    "def write_chat(new_data, user_id):\n",
    "    path = f'chats/{user_id}.json'\n",
    "    if os.path.exists(path):\n",
    "        with open(path, 'r+') as file:\n",
    "            file_data = json.load(file)\n",
    "            file_data[\"chat\"].append(new_data)\n",
    "            file.seek(0)\n",
    "            json.dump(file_data, file, indent=4)\n",
    "    else:\n",
    "        data = {\"user_id\": user_id, \"chat\": [new_data]}\n",
    "        with open(path, 'w') as file:\n",
    "            json.dump(data, file, indent=4)"
   ]
  },
  {
   "cell_type": "code",
   "execution_count": null,
   "metadata": {},
   "outputs": [],
   "source": [
    "def handle_chats(user_id, message):\n",
    "    write_chat({\"role\": \"user\", \"content\": message}, user_id)\n",
    "    print(f\"User: {message}\")\n",
    "\n",
    "    translation = translate(message)\n",
    "    print(f\"Translator: {translation}\")\n",
    "\n",
    "    write_chat({\"role\": \"assistant\", \"content\": translation}, user_id)\n",
    "    return translation"
   ]
  },
  {
   "cell_type": "code",
   "execution_count": null,
   "metadata": {},
   "outputs": [],
   "source": [
    "@bot.message_handler(commands=['start'])\n",
    "def send_welcome(message):\n",
    "    bot.reply_to(message, \"مرحبا! أنا مترجم اللهجة المصرية. أرسل لي أي نص بالإنجليزية وسأترجمه إلى اللهجة المصرية.\")\n",
    "\n",
    "@bot.message_handler(func=lambda message: True)\n",
    "def translate_message(message):\n",
    "    try:\n",
    "        user_id = str(message.from_user.id)\n",
    "        print(f\"Received message from user {user_id}: {message.text}\")\n",
    "        translation = handle_chats(user_id, message.text)\n",
    "        bot.reply_to(message, translation)\n",
    "    except Exception as e:\n",
    "        error_message = f\"An error occurred: {str(e)}\"\n",
    "        print(error_message)\n",
    "        print(traceback.format_exc())\n",
    "        bot.reply_to(message, error_message)"
   ]
  },
  {
   "cell_type": "code",
   "execution_count": null,
   "metadata": {},
   "outputs": [],
   "source": [
    "if __name__ == '__main__':\n",
    "    print(\"Bot is running...\")\n",
    "    bot.polling()"
   ]
  }
 ],
 "metadata": {
  "language_info": {
   "name": "python"
  }
 },
 "nbformat": 4,
 "nbformat_minor": 2
}
